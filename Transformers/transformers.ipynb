{
 "cells": [
  {
   "cell_type": "markdown",
   "metadata": {},
   "source": [
    "In this notebook, TranAD is used to perform anomaly detection, the source code of TranAD can be found [here](https://github.com/imperial-qore/TranAD), the most recent version (Sep 13, 2023) has a few bugs within the plotting and TranAD model logic however, that have been fixed in the local version of this repository, alongside adding support for SUE's data"
   ]
  },
  {
   "cell_type": "markdown",
   "metadata": {},
   "source": [
    "To use TranAD, or any model supported in the TranAD project, the data will have to be processed and encoded into vector data, standardized to a range of 0-1."
   ]
  },
  {
   "cell_type": "code",
   "execution_count": 1,
   "metadata": {},
   "outputs": [],
   "source": [
    "import pandas as pd\n",
    "import numpy as np"
   ]
  },
  {
   "cell_type": "code",
   "execution_count": 2,
   "metadata": {},
   "outputs": [],
   "source": [
    "def scale_feature(dataframe_col):\n",
    "    return (dataframe_col - dataframe_col.min()) / (dataframe_col.max() - dataframe_col.min())\n",
    "\n",
    "def process_data(base_sue_df):\n",
    "    df = base_sue_df.copy()\n",
    "    df['_source_@timestamp'] = pd.to_datetime(df['_source_@timestamp'])\n",
    "    df = df.sort_values(by=\"_source_@timestamp\", ascending=True)\n",
    "    feature_df = df[[\"_source_network_bytes\", \"_source_event_duration\", \"udp\", \"tcp\", \"label\"]]\n",
    "\n",
    "    normalized_feature_df = feature_df.copy()\n",
    "    normalized_feature_df[\"_source_network_bytes\"] = scale_feature(feature_df[\"_source_network_bytes\"])\n",
    "    normalized_feature_df[\"_source_event_duration\"] = scale_feature(feature_df[\"_source_event_duration\"])\n",
    "    return normalized_feature_df"
   ]
  },
  {
   "cell_type": "markdown",
   "metadata": {},
   "source": [
    "Let's process the data, and put it in a numpy array format so it can be taken in as vector data by TranAD, the count of rows is specified, as the full 5 million record dataset is too large to be processed by the transformer in a reasonable amount of time."
   ]
  },
  {
   "cell_type": "code",
   "execution_count": 3,
   "metadata": {},
   "outputs": [],
   "source": [
    "train_rows = 100000\n",
    "test_rows = 100000"
   ]
  },
  {
   "cell_type": "code",
   "execution_count": 4,
   "metadata": {},
   "outputs": [],
   "source": [
    "train_df = process_data(pd.read_csv(\"../data/train_data.csv\"))\n",
    "test_df = process_data(pd.read_csv(\"../data/test_data.csv\"))\n",
    "\n",
    "np.save(\"TranAD/processed/SUE/train.npy\", train_df[[\"_source_network_bytes\", \"_source_event_duration\", \"udp\", \"tcp\"]].values[:train_rows])\n",
    "np.save(\"TranAD/processed/SUE/test.npy\", test_df[[\"_source_network_bytes\", \"_source_event_duration\", \"udp\", \"tcp\"]].values[:test_rows])\n",
    "# Do disgusting label mapping, to have TranAD properly parse the data\n",
    "np.save(\"TranAD/processed/SUE/labels.npy\", test_df[[\"label\", \"label\", \"label\", \"label\"]].values[:test_rows])"
   ]
  },
  {
   "cell_type": "markdown",
   "metadata": {},
   "source": [
    "Now that the data is properly structured, we can run TranAD, or any of the other model's supported by this project"
   ]
  },
  {
   "cell_type": "code",
   "execution_count": 1,
   "metadata": {},
   "outputs": [
    {
     "name": "stderr",
     "output_type": "stream",
     "text": [
      "c:\\Users\\Sugar\\AppData\\Local\\Programs\\Python\\Python310\\lib\\site-packages\\torch\\nn\\modules\\transformer.py:282: UserWarning: enable_nested_tensor is True, but self.use_nested_tensor is False because encoder_layer was not TransformerEncoderLayer\n",
      "  warnings.warn(f\"enable_nested_tensor is True, but self.use_nested_tensor is False because {why_not_sparsity_fast_path}\")\n",
      "c:\\Users\\Sugar\\AppData\\Local\\Programs\\Python\\Python310\\lib\\site-packages\\tqdm\\auto.py:21: TqdmWarning: IProgress not found. Please update jupyter and ipywidgets. See https://ipywidgets.readthedocs.io/en/stable/user_install.html\n",
      "  from .autonotebook import tqdm as notebook_tqdm\n"
     ]
    },
    {
     "name": "stdout",
     "output_type": "stream",
     "text": [
      "\u001b[92mCreating new model: TranAD\u001b[0m\n",
      "\u001b[95mTraining TranAD on SUE\u001b[0m\n"
     ]
    }
   ],
   "source": [
    "import os\n",
    "# Change working dir to TranAD, this assumes that the current working dir is this notebook which 'should' be the case\n",
    "original_cwd = os.getcwd()\n",
    "try:\n",
    "    os.chdir(os.path.join(original_cwd, \"TranAD\"))\n",
    "    %run main.py --model TranAD --dataset SUE --retrain\n",
    "finally:\n",
    "    # Change working dir back when done\n",
    "    os.chdir(original_cwd)"
   ]
  }
 ],
 "metadata": {
  "kernelspec": {
   "display_name": "Python 3",
   "language": "python",
   "name": "python3"
  },
  "language_info": {
   "codemirror_mode": {
    "name": "ipython",
    "version": 3
   },
   "file_extension": ".py",
   "mimetype": "text/x-python",
   "name": "python",
   "nbconvert_exporter": "python",
   "pygments_lexer": "ipython3",
   "version": "3.10.2"
  }
 },
 "nbformat": 4,
 "nbformat_minor": 2
}
