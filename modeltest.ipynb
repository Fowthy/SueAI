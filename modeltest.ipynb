{
 "cells": [
  {
   "cell_type": "code",
   "execution_count": 2,
   "metadata": {},
   "outputs": [
    {
     "name": "stdout",
     "output_type": "stream",
     "text": [
      "1875/1875 [==============================] - 9s 4ms/step - loss: 0.3002 - accuracy: 0.9129\n",
      "313/313 - 1s - loss: 0.1475 - accuracy: 0.9562 - 1s/epoch - 4ms/step\n"
     ]
    },
    {
     "data": {
      "text/html": [
       "<pre style=\"white-space:pre;overflow-x:auto;line-height:normal;font-family:Menlo,'DejaVu Sans Mono',consolas,'Courier New',monospace\"></pre>\n"
      ],
      "text/plain": []
     },
     "metadata": {},
     "output_type": "display_data"
    }
   ],
   "source": [
    "import random\n",
    "import sys\n",
    "from dvclive import Live\n",
    "import tensorflow as tf\n",
    "\n",
    "# train.py\n",
    "\n",
    "\n",
    "with Live(save_dvc_exp=True) as live:\n",
    "    NUM_EPOCHS = 1\n",
    "\n",
    "    live.log_param(\"epochs\", NUM_EPOCHS)\n",
    "\n",
    "    for epoch in range(NUM_EPOCHS):\n",
    "        mnist = tf.keras.datasets.mnist\n",
    "\n",
    "        (x_train,y_train), (x_test,y_test) = mnist.load_data()\n",
    "        x_train, x_test = x_train / 255.0, x_test / 255.0\n",
    "\n",
    "\n",
    "        #define model\n",
    "        model = tf.keras.models.Sequential([\n",
    "                                    tf.keras.layers.Flatten(input_shape=(28,28)),\n",
    "                                        tf.keras.layers.Dense(128,activation='relu'),\n",
    "                                        tf.keras.layers.Dropout(0.2),\n",
    "                                        tf.keras.layers.Dense(10)\n",
    "        ])\n",
    "\n",
    "        #define loss function variable\n",
    "        loss_fn = tf.keras.losses.SparseCategoricalCrossentropy(from_logits=True)\n",
    "\n",
    "        #define optimizer,loss function and evaluation metric\n",
    "        model.compile(optimizer='adam',\n",
    "                    loss=loss_fn,\n",
    "                    metrics=['accuracy'])\n",
    "\n",
    "        #train the model\n",
    "        model.fit(x_train,y_train,epochs=1)\n",
    "\n",
    "        metrics = model.evaluate(x_test,y_test,verbose=2)\n",
    "        live.log_metric(\"accuracy\", metrics[1])\n",
    "        # for metric_name, value in metrics.items():\n",
    "        #     live.log_metric(metric_name, value)\n",
    "\n",
    "        live.next_step()\n",
    "\n",
    "    live.log_artifact(\"./modeltest.ipynb\", type=\"model\", name=\"test2\")\n"
   ]
  }
 ],
 "metadata": {
  "kernelspec": {
   "display_name": "Python 3",
   "language": "python",
   "name": "python3"
  },
  "language_info": {
   "codemirror_mode": {
    "name": "ipython",
    "version": 3
   },
   "file_extension": ".py",
   "mimetype": "text/x-python",
   "name": "python",
   "nbconvert_exporter": "python",
   "pygments_lexer": "ipython3",
   "version": "3.11.2"
  },
  "orig_nbformat": 4
 },
 "nbformat": 4,
 "nbformat_minor": 2
}
